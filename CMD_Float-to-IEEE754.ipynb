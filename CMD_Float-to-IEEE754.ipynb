{
 "cells": [
  {
   "cell_type": "markdown",
   "metadata": {},
   "source": [
    "# Codierung multimedialer Daten\n",
    "AZNM 1: Aufgabe 2.8\n",
    "\n",
    "**Berechnen Sie 255 als float gemäß IEEE754!**"
   ]
  },
  {
   "cell_type": "code",
   "execution_count": 1,
   "metadata": {},
   "outputs": [],
   "source": [
    "import numpy as np \n",
    "x = 255"
   ]
  },
  {
   "cell_type": "markdown",
   "metadata": {},
   "source": [
    "## Bestimmung des Vorzeichens"
   ]
  },
  {
   "cell_type": "code",
   "execution_count": 2,
   "metadata": {},
   "outputs": [
    {
     "name": "stdout",
     "output_type": "stream",
     "text": [
      "Vorzeichen:  0\n"
     ]
    }
   ],
   "source": [
    "s = (x < 0)\n",
    "print(\"Vorzeichen: \", np.binary_repr(s))"
   ]
  },
  {
   "cell_type": "markdown",
   "metadata": {},
   "source": [
    "## Exponent mit Basis b = 2: e = log2(x)"
   ]
  },
  {
   "cell_type": "code",
   "execution_count": 3,
   "metadata": {},
   "outputs": [
    {
     "name": "stdout",
     "output_type": "stream",
     "text": [
      "Exponent e:  7\n"
     ]
    }
   ],
   "source": [
    "exp = int(np.floor(np.log2(x)))\n",
    "print(\"Exponent e: \", exp)"
   ]
  },
  {
   "cell_type": "markdown",
   "metadata": {},
   "source": [
    "## Mantisse: m = x/b^e"
   ]
  },
  {
   "cell_type": "code",
   "execution_count": 4,
   "metadata": {},
   "outputs": [
    {
     "name": "stdout",
     "output_type": "stream",
     "text": [
      "Mantisse:  1.9921875\n"
     ]
    }
   ],
   "source": [
    "mant = x/2**exp\n",
    "print(\"Mantisse: \", mant)"
   ]
  },
  {
   "cell_type": "markdown",
   "metadata": {},
   "source": [
    "## Bestimmung Exponent - Binär"
   ]
  },
  {
   "cell_type": "code",
   "execution_count": 5,
   "metadata": {},
   "outputs": [
    {
     "name": "stdout",
     "output_type": "stream",
     "text": [
      "Exponent:  10000110\n"
     ]
    }
   ],
   "source": [
    "E = exp + 127\n",
    "print(\"Exponent: \", np.binary_repr(E))"
   ]
  },
  {
   "cell_type": "markdown",
   "metadata": {},
   "source": [
    "## Mantisse: m = 1+M/2^p, p ist Bitbreite der Mantisse"
   ]
  },
  {
   "cell_type": "code",
   "execution_count": 6,
   "metadata": {},
   "outputs": [
    {
     "name": "stdout",
     "output_type": "stream",
     "text": [
      "Mantnisse:  11111110000000000000000\n"
     ]
    }
   ],
   "source": [
    "p = 23\n",
    "M = int((mant-1) * 2**p)\n",
    "print(\"Mantnisse: \", np.binary_repr(M))"
   ]
  },
  {
   "cell_type": "markdown",
   "metadata": {},
   "source": [
    "## float-32-Darstellung"
   ]
  },
  {
   "cell_type": "code",
   "execution_count": 7,
   "metadata": {},
   "outputs": [
    {
     "name": "stdout",
     "output_type": "stream",
     "text": [
      "0 10000110 11111110000000000000000\n"
     ]
    }
   ],
   "source": [
    "print(np.binary_repr(s), np.binary_repr(E), np.binary_repr(M))"
   ]
  },
  {
   "cell_type": "code",
   "execution_count": null,
   "metadata": {},
   "outputs": [],
   "source": []
  }
 ],
 "metadata": {
  "kernelspec": {
   "display_name": "Python 3",
   "language": "python",
   "name": "python3"
  },
  "language_info": {
   "codemirror_mode": {
    "name": "ipython",
    "version": 3
   },
   "file_extension": ".py",
   "mimetype": "text/x-python",
   "name": "python",
   "nbconvert_exporter": "python",
   "pygments_lexer": "ipython3",
   "version": "3.7.3"
  }
 },
 "nbformat": 4,
 "nbformat_minor": 2
}
